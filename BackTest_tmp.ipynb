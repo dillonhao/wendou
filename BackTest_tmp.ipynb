{
 "cells": [
  {
   "cell_type": "code",
   "execution_count": 1,
   "metadata": {},
   "outputs": [],
   "source": [
    "%load_ext rqalpha"
   ]
  },
  {
   "cell_type": "code",
   "execution_count": 2,
   "metadata": {},
   "outputs": [
    {
     "name": "stderr",
     "output_type": "stream",
     "text": [
      "2017-01-03 INFO init\n"
     ]
    },
    {
     "name": "stdout",
     "output_type": "stream",
     "text": [
      "\n"
     ]
    },
    {
     "name": "stderr",
     "output_type": "stream",
     "text": [
      "2017-08-01 WARN 600653.XSHG 在 2017-08-01 15:00:00 时停牌。\n",
      "[2018-02-26 17:21:10.576183] ERROR: system_log: tear down fail for sys_analyser\n",
      "Traceback (most recent call last):\n",
      "  File \"C:\\ProgramData\\Anaconda3\\lib\\site-packages\\rqalpha\\mod\\__init__.py\", line 77, in tear_down\n",
      "    ret = self._mod_dict[mod_name].tear_down(*args)\n",
      "  File \"C:\\ProgramData\\Anaconda3\\lib\\site-packages\\rqalpha\\mod\\rqalpha_mod_sys_analyser\\mod.py\", line 268, in tear_down\n",
      "    with open(self._mod_config.output_file, 'wb') as f:\n",
      "FileNotFoundError: [Errno 2] No such file or directory: 'C:/wendou/test.pkl'\n"
     ]
    }
   ],
   "source": [
    "%%rqalpha -s 20170101 -e 20180201 -p -bm 600651.XSHG --account stock 100000 \n",
    "\n",
    "import numpy as np\n",
    "import pandas as pd\n",
    "from math import log\n",
    "\n",
    "\n",
    "\n",
    "def meb(x, a, b, c):\n",
    "    # return the membership of PL,PM,PS,AZ,NS,NM,NL\n",
    "    # x is return , a, b, c is the boundary of the membership\n",
    "    if x <= a:\n",
    "        return 0.0\n",
    "    if (x > a) and (x <= b):\n",
    "        return (x - a) / (b - a)\n",
    "    if (x > b) and (x <= c):\n",
    "        return (c - x) / (c - b)\n",
    "    if x > c:\n",
    "        return 0.0\n",
    "    if a == b:\n",
    "        if x <= b:\n",
    "            return 1.0\n",
    "        if (x > b) and (x <= c):\n",
    "            return (c - x) / (c - b)\n",
    "        if x > c:\n",
    "            return 0.0\n",
    "    if b == c:\n",
    "        if x <= a:\n",
    "            return 0.0\n",
    "        if (x > a) and (x <= b):\n",
    "            return (x - a) / (b - a)\n",
    "        if x > b:\n",
    "            return 1.0\n",
    "\n",
    "def risk_control(context):\n",
    "    # control the portfolio risk\n",
    "    pass\n",
    "\n",
    "def stock_selection(context):\n",
    "    # select the stock\n",
    "    pass\n",
    "        \n",
    "def exposure_control(context):\n",
    "    # control the exposure\n",
    "    pass\n",
    "\n",
    "def log_cash(context, bar_dict):\n",
    "    logger.info(\"Remaning cash: %r\" % context.portfolio.cash, context.portfolio.positions)\n",
    "\n",
    "    \n",
    "def init(context):\n",
    "    logger.info(\"init\")\n",
    "    context.s1 = \"002032.XSHE\"\n",
    "    # if instruments(context.s1).days_from_listed(date=None)<366:\n",
    "    # os._exit()\n",
    "    #scheduler.run_daily(log_cash)\n",
    "    context.portfolios=[ '600653.XSHG', '600651.XSHG']\n",
    "    multidx=pd.MultiIndex.from_product([context.portfolios,[0,1]])\n",
    "    update_universe(context.s1)\n",
    "    # 是否已发送了order\n",
    "    context.fired = False\n",
    "    context.P = np.matrix('10 0;0 10')\n",
    "    context.Ppanel = pd.Panel(np.zeros([len(context.portfolios),2,2]),items=context.portfolios)\n",
    "\n",
    "    for value in context.portfolios:\n",
    "        context.Ppanel[value]=context.P\n",
    "    context.c = 0.01\n",
    "    context.lmd = 0.9\n",
    "\n",
    "    context.aa = pd.DataFrame(np.zeros([1, multidx.size]), columns=multidx)\n",
    "    context.aadataframe = pd.DataFrame(np.zeros([1,multidx.size]),columns=multidx)\n",
    "    #context.aapanel = pd.Panel(np.zeros([4,1,2]),items=context.portfolios, minor_axis=[0,1])\n",
    "    # print(aa)\n",
    "    # context.c = 0.01\n",
    "    for value in context.portfolios:\n",
    "        context.value=False #record the order is fired or not\n",
    "\n",
    "def before_trading(context):\n",
    "    c = context.c\n",
    "    lmd = context.lmd\n",
    "    #P = context.P\n",
    "    \n",
    "    \n",
    "    for value in context.portfolios:\n",
    "        P = np.matrix(context.Ppanel[value])\n",
    "        #aa = context.aapanel[value].tail(1)\n",
    "        aa = context.aa[[value]]\n",
    "        aai = np.matrix(aa).T\n",
    "        try:\n",
    "            numerator = history_bars(value, 1, '1d', 'close').mean()\n",
    "            denominator = history_bars(value, 5, '1d', 'close').mean()\n",
    "            tmp = history_bars(value, 2, '1d', 'close')\n",
    "            r = log(tmp[1] / tmp[0])\n",
    "            avg_return = log(numerator / denominator)\n",
    "            y1 = meb(avg_return, 0, c, 2 * c)\n",
    "            y2 = meb(avg_return, c, 2 * c, 3 * c)\n",
    "            y3 = meb(avg_return, 2 * c, 3 * c, 3 * c)\n",
    "            y4 = meb(avg_return, -2 * c, -c, 0)\n",
    "            y5 = meb(avg_return, -3 * c, -2 * c, -c)\n",
    "            y6 = meb(avg_return, -3 * c, -3 * c, -2 * c)\n",
    "            y7 = meb(avg_return, -c, 0, c)\n",
    "            ya = y1 + y2 + y3 + y7\n",
    "            yb = y4 + y5 + y6 + y7\n",
    "            # print(ya,yb)\n",
    "            if ya == 0:\n",
    "                ed6 = 0\n",
    "            else:\n",
    "                ed6 = (0.1 * y1 + 0.2 * y2 + 0.4 * y3) / ya\n",
    "            if yb == 0:\n",
    "                ed7 = 0\n",
    "            else:\n",
    "                ed7 = (0.1 * y4 + 0.2 * y5 + 0.4 * y6) / yb\n",
    "        # print(ed6,ed7)\n",
    "            X = np.matrix([[ed6], [ed7]])\n",
    "            K = P * X / (X.T * P * X - lmd)\n",
    "            aat = (aai + K * (r - X.T * aai)).T\n",
    "            #context.P = (P - K * X.T * P) / lmd\n",
    "            context.Ppanel[value]=(P - K * X.T * P) / lmd\n",
    "            #print(context.aapanel[value].values)\n",
    "            context.aa[[value]]=aat\n",
    "            #print (aat)\n",
    "            #context.aapanel.update(context.aapanel[value].append(pd.DataFrame(aat), ignore_index=True))\n",
    "            # context.aapanel[value] = context.aapanel[value].append(pd.DataFrame(aat), ignore_index=True)\n",
    "            #context.aa = context.aa.append(pd.DataFrame(aat), ignore_index=True)\n",
    "        except:\n",
    "            print(\"Error when trying\")\n",
    "        # print(tmp)\n",
    "    context.aadataframe = context.aadataframe.append(context.aa)\n",
    "    #print(context.aadataframe)\n",
    "\n",
    "# 你选择的证券的数据更新将会触发此段逻辑，例如日或分钟历史数据切片或者是实时数据切片更新\n",
    "def handle_bar(context, bar_dict):\n",
    "    # 开始编写你的主要的算法逻辑\n",
    "    #print(context.aapanel.values)\n",
    "    # bar_dict[order_book_id] 可以拿到某个证券的bar信息\n",
    "    # context.portfolio 可以拿到现在的投资组合状态信息\n",
    "    aaa = context.aadataframe.tail(3)\n",
    "    a = context.aadataframe.tail(1)\n",
    "    for value in context.portfolios:\n",
    "        price_nextday = history_bars(value, 1, '1d', 'close')  \n",
    "        #if context.value==True:\n",
    "            #print(price_nextday)\n",
    "            #order_percent(value, -1)\n",
    "            #context.value==False\n",
    "    \n",
    "        #upcondition = aaa[value].iloc[:,0]>0\n",
    "        #dncondition = a[value].iloc[:,1]>0\n",
    "        #if all(upcondition):\n",
    "        if aaa[value].iloc[:,0].sum()>aaa[value].iloc[:,1].sum():\n",
    "            #logger.info(price_nextday)\n",
    "            order_percent(value, 0.2)\n",
    "            context.value=True\n",
    "        else:\n",
    "        #if all(dncondition):\n",
    "            order_percent(value, -0.2)\n",
    "\n",
    "    # 使用order_shares(id_or_ins, amount)方法进行落单\n",
    "    # TODO: 开始编写你的算法吧！\n",
    "    #aa = context.aa.tail(1)\n",
    "    #if aa.iloc[0, 0] > 0:\n",
    "        # order_percent并且传入1代表买入该股票并且使其占有投资组合的100%\n",
    "    #order_percent(000005.XSHE, 0.2)\n",
    "        # context.fired = True\n",
    "    #else:\n",
    "        #order_percent(context.s1, -0.5)"
   ]
  },
  {
   "cell_type": "code",
   "execution_count": 140,
   "metadata": {},
   "outputs": [
    {
     "data": {
      "text/plain": [
       "dict_keys(['summary', 'trades', 'portfolio', 'benchmark_portfolio', 'stock_account', 'stock_positions'])"
      ]
     },
     "execution_count": 140,
     "metadata": {},
     "output_type": "execute_result"
    }
   ],
   "source": [
    "import pandas as pd\n",
    "result = pd.read_pickle('C:/wendou/test.pkl')\n",
    "result.keys()\n",
    "result['trades']"
   ]
  },
  {
   "cell_type": "code",
   "execution_count": 147,
   "metadata": {},
   "outputs": [
    {
     "ename": "NameError",
     "evalue": "name 'aadataframe' is not defined",
     "output_type": "error",
     "traceback": [
      "\u001b[1;31m---------------------------------------------------------------------------\u001b[0m",
      "\u001b[1;31mNameError\u001b[0m                                 Traceback (most recent call last)",
      "\u001b[1;32m<ipython-input-147-1a8bd113b349>\u001b[0m in \u001b[0;36m<module>\u001b[1;34m()\u001b[0m\n\u001b[1;32m----> 1\u001b[1;33m \u001b[0maadataframe\u001b[0m\u001b[1;33m\u001b[0m\u001b[0m\n\u001b[0m",
      "\u001b[1;31mNameError\u001b[0m: name 'aadataframe' is not defined"
     ]
    }
   ],
   "source": [
    "aadataframe"
   ]
  }
 ],
 "metadata": {
  "kernelspec": {
   "display_name": "Python 3",
   "language": "python",
   "name": "python3"
  },
  "language_info": {
   "codemirror_mode": {
    "name": "ipython",
    "version": 3
   },
   "file_extension": ".py",
   "mimetype": "text/x-python",
   "name": "python",
   "nbconvert_exporter": "python",
   "pygments_lexer": "ipython3",
   "version": "3.6.3"
  }
 },
 "nbformat": 4,
 "nbformat_minor": 2
}
